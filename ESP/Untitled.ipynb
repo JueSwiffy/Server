{
 "cells": [
  {
   "cell_type": "code",
   "execution_count": 2,
   "id": "adbe78b4-ce3b-4f11-b46e-74db2175d005",
   "metadata": {},
   "outputs": [
    {
     "name": "stdout",
     "output_type": "stream",
     "text": [
      "TensorFlow Version: 2.16.1\n"
     ]
    }
   ],
   "source": [
    "import tensorflow as tf\n",
    "print(\"TensorFlow Version:\", tf.__version__)\n"
   ]
  },
  {
   "cell_type": "code",
   "execution_count": 3,
   "id": "9a4a85f3-698b-4915-9b7b-37acc45cad51",
   "metadata": {},
   "outputs": [],
   "source": [
    "import os\n",
    "os.chdir('sound-separation')"
   ]
  },
  {
   "cell_type": "code",
   "execution_count": null,
   "id": "71f6b8fa-eb2c-4a8a-994f-ded1a21a2430",
   "metadata": {},
   "outputs": [],
   "source": [
    "import tensorflow as tf\n",
    "\n",
    "model = tf.keras.models.load_model('')"
   ]
  }
 ],
 "metadata": {
  "kernelspec": {
   "display_name": "Python 3 (ipykernel)",
   "language": "python",
   "name": "python3"
  },
  "language_info": {
   "codemirror_mode": {
    "name": "ipython",
    "version": 3
   },
   "file_extension": ".py",
   "mimetype": "text/x-python",
   "name": "python",
   "nbconvert_exporter": "python",
   "pygments_lexer": "ipython3",
   "version": "3.11.0rc1"
  }
 },
 "nbformat": 4,
 "nbformat_minor": 5
}
